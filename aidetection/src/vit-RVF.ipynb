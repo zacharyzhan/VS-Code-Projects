{
 "cells": [
  {
   "cell_type": "code",
   "execution_count": 1,
   "id": "75486392-158a-47fb-9809-495b2ad81dcb",
   "metadata": {},
   "outputs": [],
   "source": [
    "# # 1. Environment\n",
    "\n",
    "import gc\n",
    "import random\n",
    "import os\n",
    "import timm\n",
    "import torch\n",
    "import warnings\n",
    "import torchvision\n",
    "import numpy as np\n",
    "import pandas as pd\n",
    "from PIL import Image\n",
    "from pathlib import Path\n",
    "from torch import optim\n",
    "from torchvision import models\n",
    "from tqdm.notebook import tqdm\n",
    "import matplotlib.pyplot as plt\n",
    "from torchvision import datasets, transforms\n",
    "from sklearn.model_selection import train_test_split\n",
    "from torch.utils.data import DataLoader, Dataset, sampler\n",
    "from sklearn.metrics import accuracy_score, precision_recall_fscore_support\n",
    "\n",
    "# from swin_transformer_v2 import SwinTransformerV2\n",
    "\n",
    "\n",
    "# set random seeds to make results reproducible\n",
    "def seed_everything(seed=42):\n",
    "    os.environ['PYTHONHASHSEED'] = str(seed)\n",
    "    random.seed(seed)\n",
    "    np.random.seed(seed)\n",
    "    torch.manual_seed(seed)\n",
    "    torch.backends.cudnn.benchmark = False\n",
    "    torch.backends.cudnn.deterministic = True\n",
    "\n",
    "SEED = 42\n",
    "seed_everything(SEED)\n",
    "\n",
    "\n",
    "warnings.filterwarnings(\"ignore\")\n",
    "plt.rcParams.update({'axes.titlesize': 20})\n"
   ]
  },
  {
   "cell_type": "code",
   "execution_count": 2,
   "id": "c0a9e889-7fed-49a8-8f29-98c55fb85ef2",
   "metadata": {},
   "outputs": [],
   "source": [
    "# ##  Arguments\n",
    "\n",
    "# We put hyperparameter together for easy modification.\n",
    "\n",
    "class Args:\n",
    "    def __init__(self) -> None:\n",
    "        # data arguments\n",
    "        self.num_classes = 2\n",
    "        self.img_size = 224\n",
    "        self.num_train_data = 10000\n",
    "        self.num_test_data = 2000\n",
    "        self.dataset_path = \"../input/mixed/\"\n",
    "        \n",
    "        # training arguments\n",
    "        self.learning_rate =  1e-4\n",
    "        self.epochs = 30\n",
    "        self.scheduler = True\n",
    "        self.sch_step_size = 2\n",
    "        self.sch_gamma = 0.1\n",
    "        \n",
    "        # model arguments\n",
    "        self.drop_path_rate = 0.2\n",
    "        self.embed_dim = 96\n",
    "        self.depths = (2, 2, 6, 2)\n",
    "        self.num_heads = (3, 6, 12, 24)\n",
    "        self.window_size = 16\n",
    "        # self.load_model_path = \"../input/swinv2_tiny_patch4_window16_256.pth\"\n",
    "        self.save_model_path = \"../output/mixed_vit_base_patch16_224.pth\"\n",
    "        \n",
    "        # output arguments\n",
    "        self.output_path = \"../output/mixed_vit_base16/\"\n"
   ]
  },
  {
   "cell_type": "code",
   "execution_count": 3,
   "id": "77fa9e32-6002-431b-a58b-62eee55898fb",
   "metadata": {},
   "outputs": [],
   "source": [
    "args = Args()\n"
   ]
  },
  {
   "cell_type": "code",
   "execution_count": 4,
   "id": "b7a814a8-d611-471e-8950-09c09ed60659",
   "metadata": {},
   "outputs": [],
   "source": [
    "# # 2. Data\n"
   ]
  },
  {
   "cell_type": "code",
   "execution_count": 5,
   "id": "5f71ffe3-fc98-4d84-8c80-ecf4624b185e",
   "metadata": {},
   "outputs": [],
   "source": [
    "# ## 2.1 Augmentation\n",
    "\n",
    "# Take some augmentation actions on the images to improve training effectiveness.\n",
    "\n",
    "train_augmentations = transforms.Compose([\n",
    "    transforms.RandomResizedCrop(args.img_size, scale=(0.6, 1.0), ratio=(3./ 4., 4. / 3.)),\n",
    "    transforms.RandomHorizontalFlip(0.5),\n",
    "    # transforms.RandomVerticalFlip(0.1),  # no VerticalFlip\n",
    "    transforms.RandomPerspective(distortion_scale=0.2, p=0.2),\n",
    "    transforms.RandomRotation(15),\n",
    "    transforms.ColorJitter(brightness=0.2, contrast=0.1, saturation=0.1, hue=0.1),\n",
    "    transforms.ToTensor(),\n",
    "    transforms.Normalize([0.485, 0.456, 0.406], [0.229, 0.224, 0.225]),\n",
    "])\n",
    "test_augmentations = transforms.Compose([\n",
    "    transforms.Resize(args.img_size),\n",
    "    transforms.CenterCrop(args.img_size),\n",
    "    transforms.ToTensor(),\n",
    "    transforms.Normalize([0.485, 0.456, 0.406], [0.229, 0.224, 0.225]),\n",
    "])\n",
    "basic_augmentations = transforms.Compose([\n",
    "    transforms.Resize(args.img_size),\n",
    "    transforms.CenterCrop(args.img_size),\n",
    "    transforms.ToTensor()\n",
    "])"
   ]
  },
  {
   "cell_type": "code",
   "execution_count": 6,
   "id": "02969057-b85c-49e1-9a82-7ed645130288",
   "metadata": {},
   "outputs": [],
   "source": [
    "\n",
    "# ## 2.2 Read and split\n",
    "\n",
    "# Read the datasets and split it into training and testing sets. It should be noted that due to the large size of the original dataset, we will only randomly select a portion of the data to complete our task.\n",
    "\n",
    "\n",
    "# read train and test dataset\n",
    "train_dataset = datasets.ImageFolder(root=args.dataset_path + \"train/\", transform=train_augmentations)\n",
    "test_dataset = datasets.ImageFolder(root=args.dataset_path + \"test/\", transform=test_augmentations)\n",
    "\n",
    "\n",
    "# select a subset of the dataset\n",
    "train_fake_all_indices = np.arange(len(train_dataset) / 2, dtype=np.int32)\n",
    "train_fake_indices = np.random.choice(train_fake_all_indices, size=int(args.num_train_data / 2), replace=False)\n",
    "train_real_indices = train_fake_indices + int(len(train_dataset) / 2)\n",
    "train_indices = np.append(train_fake_indices, train_real_indices)\n",
    "\n",
    "test_fake_all_indices = np.arange(len(test_dataset) / 2, dtype=np.int32)\n",
    "test_fake_indices = np.random.choice(test_fake_all_indices, size=int(args.num_test_data / 2), replace=False)\n",
    "test_real_indices = test_fake_indices + int(len(test_dataset) / 2)\n",
    "test_indices = np.append(test_fake_indices, test_real_indices)\n",
    "\n",
    "\n",
    "train_sampler = sampler.SubsetRandomSampler(train_indices)\n",
    "train_loader = torch.utils.data.DataLoader(train_dataset, batch_size=16, num_workers=2, sampler=train_sampler)\n",
    "test_sampler = sampler.SubsetRandomSampler(test_indices)\n",
    "test_loader = torch.utils.data.DataLoader(test_dataset, batch_size=8, num_workers=2, sampler=test_sampler)\n",
    "\n",
    "\n",
    "classes = train_dataset.classes\n",
    "class_to_idx = train_dataset.class_to_idx\n",
    "idx_to_class = dict(zip(class_to_idx.values(), class_to_idx.keys()))\n"
   ]
  },
  {
   "cell_type": "code",
   "execution_count": 7,
   "id": "8ebb9e7a-2b5d-4741-bf05-bfa83d1bff25",
   "metadata": {},
   "outputs": [],
   "source": [
    "\n",
    "# ## 2.3 Visualization\n",
    "\n",
    "# Visualize the images we read in, as well as the augmented data.\n",
    "\n",
    "\n",
    "raw_dataset = datasets.ImageFolder(root=args.dataset_path + \"train/\", transform=basic_augmentations)\n",
    "valid_dataset = datasets.ImageFolder(root=args.dataset_path + \"valid/\", transform=basic_augmentations)\n",
    "\n",
    "\n",
    "\n",
    "# we randomly select real and fake face images\n",
    "indices = [random.randint(0, len(train_dataset)) for i in range(16)]\n",
    "\n",
    "\n",
    "# # show raw training data\n",
    "# figure = plt.figure(figsize=(16, 16))\n",
    "# for i in range(16):\n",
    "#     index = indices[i]\n",
    "#     img = raw_dataset[index][0].permute(1, 2, 0)\n",
    "#     label = idx_to_class[raw_dataset[index][1]]\n",
    "#     figure.add_subplot(4, 4, i + 1)\n",
    "#     plt.title(label)\n",
    "#     plt.axis(\"off\")\n",
    "#     plt.imshow(img)\n",
    "\n",
    "\n",
    "\n",
    "# # show augmented training data \n",
    "# figure = plt.figure(figsize=(16, 16))\n",
    "# for i in range(16):\n",
    "#     index = indices[i]\n",
    "#     img = train_dataset[index][0].permute(1, 2, 0)\n",
    "#     label = idx_to_class[train_dataset[index][1]]\n",
    "#     figure.add_subplot(4, 4, i + 1)\n",
    "#     plt.title(label)\n",
    "#     plt.axis(\"off\")\n",
    "#     plt.imshow(img)\n"
   ]
  },
  {
   "cell_type": "code",
   "execution_count": 8,
   "id": "902d02c9-92cb-4049-a64a-50a1a8f7289c",
   "metadata": {},
   "outputs": [],
   "source": [
    "# # 3. Model"
   ]
  },
  {
   "cell_type": "code",
   "execution_count": 9,
   "id": "efa07880-cc6b-4b22-8fd4-88caab30b5d7",
   "metadata": {},
   "outputs": [],
   "source": [
    "# ## 3.1 Network\n",
    "\n",
    "\n",
    "# 加载预训练的 ViT-base-patch16 模型\n",
    "model = timm.create_model('vit_base_patch16_224', pretrained=True)\n",
    "\n",
    "# 如果有训练好的模型权重，则加载自定义权重\n",
    "# state_dict = torch.load(args.load_model_path)\n",
    "# model.load_state_dict(state_dict[\"model\"])\n",
    "\n",
    "# 修改最后一层，以适应分类任务\n",
    "model.head = torch.nn.Linear(model.head.in_features, args.num_classes)\n",
    "\n",
    "# 选择设备 (GPU 或 CPU)\n",
    "device = torch.device(\"cuda\" if torch.cuda.is_available() else \"cpu\")\n",
    "model = model.to(device)\n"
   ]
  },
  {
   "cell_type": "code",
   "execution_count": 10,
   "id": "b8379f0c-ea3c-49b3-bba5-8bf6f7cf78d7",
   "metadata": {},
   "outputs": [],
   "source": [
    "\n",
    "# ## 3.2 Optimizer\n",
    "\n",
    "\n",
    "optimizer = optim.AdamW(model.parameters(), lr=args.learning_rate)\n",
    "\n",
    "\n",
    "\n",
    "if args.scheduler:\n",
    "    scheduler = optim.lr_scheduler.StepLR(optimizer, \n",
    "                                          step_size=args.sch_step_size, \n",
    "                                          gamma=args.sch_gamma)\n"
   ]
  },
  {
   "cell_type": "code",
   "execution_count": 11,
   "id": "c1c43193-69cf-4b29-926b-abcb3b73a529",
   "metadata": {},
   "outputs": [],
   "source": [
    "\n",
    "# ## 3.3 Loss function\n",
    "\n",
    "\n",
    "loss_fn = torch.nn.CrossEntropyLoss()\n"
   ]
  },
  {
   "cell_type": "code",
   "execution_count": 12,
   "id": "f26c4c96-59b5-4c67-8454-3a178978623b",
   "metadata": {},
   "outputs": [
    {
     "data": {
      "application/vnd.jupyter.widget-view+json": {
       "model_id": "c48c0d92d2014a89b43fb774db35808a",
       "version_major": 2,
       "version_minor": 0
      },
      "text/plain": [
       "  0%|          | 0/625 [00:00<?, ?it/s]"
      ]
     },
     "metadata": {},
     "output_type": "display_data"
    },
    {
     "name": "stdout",
     "output_type": "stream",
     "text": [
      "\n",
      "------------------------------------------------------------\n",
      "[Epoch 1/30]:  Test -> LOSS: 0.574283  |  Accuracy: 71.50%\n",
      "------------------------------------------------------------\n",
      "\n"
     ]
    },
    {
     "data": {
      "application/vnd.jupyter.widget-view+json": {
       "model_id": "387615e3310e4d7a90d3a1304c85887b",
       "version_major": 2,
       "version_minor": 0
      },
      "text/plain": [
       "  0%|          | 0/625 [00:00<?, ?it/s]"
      ]
     },
     "metadata": {},
     "output_type": "display_data"
    },
    {
     "name": "stdout",
     "output_type": "stream",
     "text": [
      "\n",
      "------------------------------------------------------------\n",
      "[Epoch 2/30]:  Test -> LOSS: 0.477144  |  Accuracy: 77.55%\n",
      "------------------------------------------------------------\n",
      "\n"
     ]
    },
    {
     "data": {
      "application/vnd.jupyter.widget-view+json": {
       "model_id": "458d7eb5148a48e1a738313ea6c0db0f",
       "version_major": 2,
       "version_minor": 0
      },
      "text/plain": [
       "  0%|          | 0/625 [00:00<?, ?it/s]"
      ]
     },
     "metadata": {},
     "output_type": "display_data"
    },
    {
     "name": "stdout",
     "output_type": "stream",
     "text": [
      "\n",
      "------------------------------------------------------------\n",
      "[Epoch 3/30]:  Test -> LOSS: 0.287663  |  Accuracy: 88.45%\n",
      "------------------------------------------------------------\n",
      "\n"
     ]
    },
    {
     "data": {
      "application/vnd.jupyter.widget-view+json": {
       "model_id": "8d5274aad28d4b66afa4251c83cfe242",
       "version_major": 2,
       "version_minor": 0
      },
      "text/plain": [
       "  0%|          | 0/625 [00:00<?, ?it/s]"
      ]
     },
     "metadata": {},
     "output_type": "display_data"
    },
    {
     "name": "stdout",
     "output_type": "stream",
     "text": [
      "\n",
      "------------------------------------------------------------\n",
      "[Epoch 4/30]:  Test -> LOSS: 0.225018  |  Accuracy: 91.15%\n",
      "------------------------------------------------------------\n",
      "\n"
     ]
    },
    {
     "data": {
      "application/vnd.jupyter.widget-view+json": {
       "model_id": "93c91f6c855648e2b44e55ebe0e1c4dd",
       "version_major": 2,
       "version_minor": 0
      },
      "text/plain": [
       "  0%|          | 0/625 [00:00<?, ?it/s]"
      ]
     },
     "metadata": {},
     "output_type": "display_data"
    },
    {
     "name": "stdout",
     "output_type": "stream",
     "text": [
      "\n",
      "------------------------------------------------------------\n",
      "[Epoch 5/30]:  Test -> LOSS: 0.208858  |  Accuracy: 92.35%\n",
      "------------------------------------------------------------\n",
      "\n"
     ]
    },
    {
     "data": {
      "application/vnd.jupyter.widget-view+json": {
       "model_id": "35a1c239083c4e1094bafabe0bdafc8d",
       "version_major": 2,
       "version_minor": 0
      },
      "text/plain": [
       "  0%|          | 0/625 [00:00<?, ?it/s]"
      ]
     },
     "metadata": {},
     "output_type": "display_data"
    },
    {
     "name": "stdout",
     "output_type": "stream",
     "text": [
      "\n",
      "------------------------------------------------------------\n",
      "[Epoch 6/30]:  Test -> LOSS: 0.202780  |  Accuracy: 92.60%\n",
      "------------------------------------------------------------\n",
      "\n"
     ]
    },
    {
     "data": {
      "application/vnd.jupyter.widget-view+json": {
       "model_id": "3062560cc11048f389054efc6bcecd8a",
       "version_major": 2,
       "version_minor": 0
      },
      "text/plain": [
       "  0%|          | 0/625 [00:00<?, ?it/s]"
      ]
     },
     "metadata": {},
     "output_type": "display_data"
    },
    {
     "name": "stdout",
     "output_type": "stream",
     "text": [
      "\n",
      "------------------------------------------------------------\n",
      "[Epoch 7/30]:  Test -> LOSS: 0.200400  |  Accuracy: 92.80%\n",
      "------------------------------------------------------------\n",
      "\n"
     ]
    },
    {
     "data": {
      "application/vnd.jupyter.widget-view+json": {
       "model_id": "f700d27a852241f9aea2c63f4a18cd50",
       "version_major": 2,
       "version_minor": 0
      },
      "text/plain": [
       "  0%|          | 0/625 [00:00<?, ?it/s]"
      ]
     },
     "metadata": {},
     "output_type": "display_data"
    },
    {
     "name": "stdout",
     "output_type": "stream",
     "text": [
      "\n",
      "------------------------------------------------------------\n",
      "[Epoch 8/30]:  Test -> LOSS: 0.199530  |  Accuracy: 92.80%\n",
      "------------------------------------------------------------\n",
      "\n"
     ]
    },
    {
     "data": {
      "application/vnd.jupyter.widget-view+json": {
       "model_id": "ba039561b3274f3ca1a543a7f09c438c",
       "version_major": 2,
       "version_minor": 0
      },
      "text/plain": [
       "  0%|          | 0/625 [00:00<?, ?it/s]"
      ]
     },
     "metadata": {},
     "output_type": "display_data"
    },
    {
     "name": "stdout",
     "output_type": "stream",
     "text": [
      "\n",
      "------------------------------------------------------------\n",
      "[Epoch 9/30]:  Test -> LOSS: 0.199458  |  Accuracy: 92.80%\n",
      "------------------------------------------------------------\n",
      "\n"
     ]
    },
    {
     "data": {
      "application/vnd.jupyter.widget-view+json": {
       "model_id": "368e5ee8d383406fb683edfd725b3d55",
       "version_major": 2,
       "version_minor": 0
      },
      "text/plain": [
       "  0%|          | 0/625 [00:00<?, ?it/s]"
      ]
     },
     "metadata": {},
     "output_type": "display_data"
    },
    {
     "name": "stdout",
     "output_type": "stream",
     "text": [
      "\n",
      "------------------------------------------------------------\n",
      "[Epoch 10/30]:  Test -> LOSS: 0.199470  |  Accuracy: 92.75%\n",
      "------------------------------------------------------------\n",
      "\n"
     ]
    },
    {
     "data": {
      "application/vnd.jupyter.widget-view+json": {
       "model_id": "d638a11dbca44b23911b2888dbd3ad97",
       "version_major": 2,
       "version_minor": 0
      },
      "text/plain": [
       "  0%|          | 0/625 [00:00<?, ?it/s]"
      ]
     },
     "metadata": {},
     "output_type": "display_data"
    },
    {
     "name": "stdout",
     "output_type": "stream",
     "text": [
      "\n",
      "------------------------------------------------------------\n",
      "[Epoch 11/30]:  Test -> LOSS: 0.199466  |  Accuracy: 92.75%\n",
      "------------------------------------------------------------\n",
      "\n"
     ]
    },
    {
     "data": {
      "application/vnd.jupyter.widget-view+json": {
       "model_id": "a92c52da70a74bf1ab573c0e6a03c56f",
       "version_major": 2,
       "version_minor": 0
      },
      "text/plain": [
       "  0%|          | 0/625 [00:00<?, ?it/s]"
      ]
     },
     "metadata": {},
     "output_type": "display_data"
    },
    {
     "name": "stdout",
     "output_type": "stream",
     "text": [
      "\n",
      "------------------------------------------------------------\n",
      "[Epoch 12/30]:  Test -> LOSS: 0.199467  |  Accuracy: 92.75%\n",
      "------------------------------------------------------------\n",
      "\n"
     ]
    },
    {
     "data": {
      "application/vnd.jupyter.widget-view+json": {
       "model_id": "3b45ce00400f433788d9391c5fa19224",
       "version_major": 2,
       "version_minor": 0
      },
      "text/plain": [
       "  0%|          | 0/625 [00:00<?, ?it/s]"
      ]
     },
     "metadata": {},
     "output_type": "display_data"
    },
    {
     "name": "stdout",
     "output_type": "stream",
     "text": [
      "\n",
      "------------------------------------------------------------\n",
      "[Epoch 13/30]:  Test -> LOSS: 0.199467  |  Accuracy: 92.75%\n",
      "------------------------------------------------------------\n",
      "\n"
     ]
    },
    {
     "data": {
      "application/vnd.jupyter.widget-view+json": {
       "model_id": "21b873b3963a4beba2d326f4ccf62aed",
       "version_major": 2,
       "version_minor": 0
      },
      "text/plain": [
       "  0%|          | 0/625 [00:00<?, ?it/s]"
      ]
     },
     "metadata": {},
     "output_type": "display_data"
    },
    {
     "name": "stdout",
     "output_type": "stream",
     "text": [
      "\n",
      "------------------------------------------------------------\n",
      "[Epoch 14/30]:  Test -> LOSS: 0.199467  |  Accuracy: 92.75%\n",
      "------------------------------------------------------------\n",
      "\n"
     ]
    },
    {
     "data": {
      "application/vnd.jupyter.widget-view+json": {
       "model_id": "20aaa40017ef4dce862191d8dbb53c84",
       "version_major": 2,
       "version_minor": 0
      },
      "text/plain": [
       "  0%|          | 0/625 [00:00<?, ?it/s]"
      ]
     },
     "metadata": {},
     "output_type": "display_data"
    },
    {
     "name": "stdout",
     "output_type": "stream",
     "text": [
      "\n",
      "------------------------------------------------------------\n",
      "[Epoch 15/30]:  Test -> LOSS: 0.199467  |  Accuracy: 92.75%\n",
      "------------------------------------------------------------\n",
      "\n"
     ]
    },
    {
     "data": {
      "application/vnd.jupyter.widget-view+json": {
       "model_id": "da058763cbc041b8a1bb3e51ae6ea293",
       "version_major": 2,
       "version_minor": 0
      },
      "text/plain": [
       "  0%|          | 0/625 [00:00<?, ?it/s]"
      ]
     },
     "metadata": {},
     "output_type": "display_data"
    },
    {
     "name": "stdout",
     "output_type": "stream",
     "text": [
      "\n",
      "------------------------------------------------------------\n",
      "[Epoch 16/30]:  Test -> LOSS: 0.199467  |  Accuracy: 92.75%\n",
      "------------------------------------------------------------\n",
      "\n"
     ]
    },
    {
     "data": {
      "application/vnd.jupyter.widget-view+json": {
       "model_id": "d76be829908e4062a151839fecbabdc6",
       "version_major": 2,
       "version_minor": 0
      },
      "text/plain": [
       "  0%|          | 0/625 [00:00<?, ?it/s]"
      ]
     },
     "metadata": {},
     "output_type": "display_data"
    },
    {
     "name": "stdout",
     "output_type": "stream",
     "text": [
      "\n",
      "------------------------------------------------------------\n",
      "[Epoch 17/30]:  Test -> LOSS: 0.199467  |  Accuracy: 92.75%\n",
      "------------------------------------------------------------\n",
      "\n"
     ]
    },
    {
     "data": {
      "application/vnd.jupyter.widget-view+json": {
       "model_id": "faa350d853e44d64a3aceef9fb94f412",
       "version_major": 2,
       "version_minor": 0
      },
      "text/plain": [
       "  0%|          | 0/625 [00:00<?, ?it/s]"
      ]
     },
     "metadata": {},
     "output_type": "display_data"
    },
    {
     "name": "stdout",
     "output_type": "stream",
     "text": [
      "\n",
      "------------------------------------------------------------\n",
      "[Epoch 18/30]:  Test -> LOSS: 0.199467  |  Accuracy: 92.75%\n",
      "------------------------------------------------------------\n",
      "\n"
     ]
    },
    {
     "data": {
      "application/vnd.jupyter.widget-view+json": {
       "model_id": "26273fc91bf44df593bf47691f89dac7",
       "version_major": 2,
       "version_minor": 0
      },
      "text/plain": [
       "  0%|          | 0/625 [00:00<?, ?it/s]"
      ]
     },
     "metadata": {},
     "output_type": "display_data"
    },
    {
     "name": "stdout",
     "output_type": "stream",
     "text": [
      "\n",
      "------------------------------------------------------------\n",
      "[Epoch 19/30]:  Test -> LOSS: 0.199467  |  Accuracy: 92.75%\n",
      "------------------------------------------------------------\n",
      "\n"
     ]
    },
    {
     "data": {
      "application/vnd.jupyter.widget-view+json": {
       "model_id": "cc9bf159a02a444d80d310b9e67f0279",
       "version_major": 2,
       "version_minor": 0
      },
      "text/plain": [
       "  0%|          | 0/625 [00:00<?, ?it/s]"
      ]
     },
     "metadata": {},
     "output_type": "display_data"
    },
    {
     "name": "stdout",
     "output_type": "stream",
     "text": [
      "\n",
      "------------------------------------------------------------\n",
      "[Epoch 20/30]:  Test -> LOSS: 0.199467  |  Accuracy: 92.75%\n",
      "------------------------------------------------------------\n",
      "\n"
     ]
    },
    {
     "data": {
      "application/vnd.jupyter.widget-view+json": {
       "model_id": "ef6354667e23420b8cb69287ad9f15f9",
       "version_major": 2,
       "version_minor": 0
      },
      "text/plain": [
       "  0%|          | 0/625 [00:00<?, ?it/s]"
      ]
     },
     "metadata": {},
     "output_type": "display_data"
    },
    {
     "name": "stdout",
     "output_type": "stream",
     "text": [
      "\n",
      "------------------------------------------------------------\n",
      "[Epoch 21/30]:  Test -> LOSS: 0.199467  |  Accuracy: 92.75%\n",
      "------------------------------------------------------------\n",
      "\n"
     ]
    },
    {
     "data": {
      "application/vnd.jupyter.widget-view+json": {
       "model_id": "334ce95873904caa91ba02397e177994",
       "version_major": 2,
       "version_minor": 0
      },
      "text/plain": [
       "  0%|          | 0/625 [00:00<?, ?it/s]"
      ]
     },
     "metadata": {},
     "output_type": "display_data"
    },
    {
     "name": "stdout",
     "output_type": "stream",
     "text": [
      "\n",
      "------------------------------------------------------------\n",
      "[Epoch 22/30]:  Test -> LOSS: 0.199467  |  Accuracy: 92.75%\n",
      "------------------------------------------------------------\n",
      "\n"
     ]
    },
    {
     "data": {
      "application/vnd.jupyter.widget-view+json": {
       "model_id": "51ffc0c0c29b4b5792b7875c993182d6",
       "version_major": 2,
       "version_minor": 0
      },
      "text/plain": [
       "  0%|          | 0/625 [00:00<?, ?it/s]"
      ]
     },
     "metadata": {},
     "output_type": "display_data"
    },
    {
     "name": "stdout",
     "output_type": "stream",
     "text": [
      "\n",
      "------------------------------------------------------------\n",
      "[Epoch 23/30]:  Test -> LOSS: 0.199467  |  Accuracy: 92.75%\n",
      "------------------------------------------------------------\n",
      "\n"
     ]
    },
    {
     "data": {
      "application/vnd.jupyter.widget-view+json": {
       "model_id": "b553ee77c8d940189fd96400200635ce",
       "version_major": 2,
       "version_minor": 0
      },
      "text/plain": [
       "  0%|          | 0/625 [00:00<?, ?it/s]"
      ]
     },
     "metadata": {},
     "output_type": "display_data"
    },
    {
     "name": "stdout",
     "output_type": "stream",
     "text": [
      "\n",
      "------------------------------------------------------------\n",
      "[Epoch 24/30]:  Test -> LOSS: 0.199467  |  Accuracy: 92.75%\n",
      "------------------------------------------------------------\n",
      "\n"
     ]
    },
    {
     "data": {
      "application/vnd.jupyter.widget-view+json": {
       "model_id": "360d61c8676e48b0b088763b2cb23352",
       "version_major": 2,
       "version_minor": 0
      },
      "text/plain": [
       "  0%|          | 0/625 [00:00<?, ?it/s]"
      ]
     },
     "metadata": {},
     "output_type": "display_data"
    },
    {
     "name": "stdout",
     "output_type": "stream",
     "text": [
      "\n",
      "------------------------------------------------------------\n",
      "[Epoch 25/30]:  Test -> LOSS: 0.199467  |  Accuracy: 92.75%\n",
      "------------------------------------------------------------\n",
      "\n"
     ]
    },
    {
     "data": {
      "application/vnd.jupyter.widget-view+json": {
       "model_id": "ab365f1613514098bfc1ed4db9a6c089",
       "version_major": 2,
       "version_minor": 0
      },
      "text/plain": [
       "  0%|          | 0/625 [00:00<?, ?it/s]"
      ]
     },
     "metadata": {},
     "output_type": "display_data"
    },
    {
     "name": "stdout",
     "output_type": "stream",
     "text": [
      "\n",
      "------------------------------------------------------------\n",
      "[Epoch 26/30]:  Test -> LOSS: 0.199467  |  Accuracy: 92.75%\n",
      "------------------------------------------------------------\n",
      "\n"
     ]
    },
    {
     "data": {
      "application/vnd.jupyter.widget-view+json": {
       "model_id": "e0bca8cda71d4f0eb585fc043eb35025",
       "version_major": 2,
       "version_minor": 0
      },
      "text/plain": [
       "  0%|          | 0/625 [00:00<?, ?it/s]"
      ]
     },
     "metadata": {},
     "output_type": "display_data"
    },
    {
     "name": "stdout",
     "output_type": "stream",
     "text": [
      "\n",
      "------------------------------------------------------------\n",
      "[Epoch 27/30]:  Test -> LOSS: 0.199467  |  Accuracy: 92.75%\n",
      "------------------------------------------------------------\n",
      "\n"
     ]
    },
    {
     "data": {
      "application/vnd.jupyter.widget-view+json": {
       "model_id": "00cf5c920680410aa9c70182c03a815e",
       "version_major": 2,
       "version_minor": 0
      },
      "text/plain": [
       "  0%|          | 0/625 [00:00<?, ?it/s]"
      ]
     },
     "metadata": {},
     "output_type": "display_data"
    },
    {
     "name": "stdout",
     "output_type": "stream",
     "text": [
      "\n",
      "------------------------------------------------------------\n",
      "[Epoch 28/30]:  Test -> LOSS: 0.199467  |  Accuracy: 92.75%\n",
      "------------------------------------------------------------\n",
      "\n"
     ]
    },
    {
     "data": {
      "application/vnd.jupyter.widget-view+json": {
       "model_id": "697513161ae546818b4101d2a42f26e0",
       "version_major": 2,
       "version_minor": 0
      },
      "text/plain": [
       "  0%|          | 0/625 [00:00<?, ?it/s]"
      ]
     },
     "metadata": {},
     "output_type": "display_data"
    },
    {
     "name": "stdout",
     "output_type": "stream",
     "text": [
      "\n",
      "------------------------------------------------------------\n",
      "[Epoch 29/30]:  Test -> LOSS: 0.199467  |  Accuracy: 92.75%\n",
      "------------------------------------------------------------\n",
      "\n"
     ]
    },
    {
     "data": {
      "application/vnd.jupyter.widget-view+json": {
       "model_id": "c1de91e639ec4a4e805f1825722cc802",
       "version_major": 2,
       "version_minor": 0
      },
      "text/plain": [
       "  0%|          | 0/625 [00:00<?, ?it/s]"
      ]
     },
     "metadata": {},
     "output_type": "display_data"
    },
    {
     "name": "stdout",
     "output_type": "stream",
     "text": [
      "\n",
      "------------------------------------------------------------\n",
      "[Epoch 30/30]:  Test -> LOSS: 0.199467  |  Accuracy: 92.75%\n",
      "------------------------------------------------------------\n",
      "\n"
     ]
    }
   ],
   "source": [
    "# # 4. Train\n",
    "# Start training the model and record the intermediate results, including loss, accuracy, precision, recall and f1-score.\n",
    "\n",
    "\n",
    "train_acc, test_acc = [], []\n",
    "train_precision, test_precision = [], []\n",
    "train_recall, test_recall = [], []\n",
    "train_f1, test_f1 = [], []\n",
    "train_loss, test_loss = [], []\n",
    "\n",
    "\n",
    "class LossBuffer:\n",
    "    \"\"\"\n",
    "    We hope to record all losses over a period of time \n",
    "    and calculate their average value,\n",
    "    which is smooth and does not have too much jitter.\n",
    "    In fact, we don't need to record the entire array, \n",
    "    only the current average and number of records are enough.\n",
    "    \"\"\"\n",
    "    \n",
    "    def __init__(self, mean=0, n=0):\n",
    "        self.mean = mean\n",
    "        self.n = n\n",
    "        \n",
    "    def add(self, num):\n",
    "        self.mean = (self.mean * self.n + num) / (self.n + 1)\n",
    "        self.n += 1\n",
    "\n",
    "\n",
    "def train(model, dataloader, epoch):\n",
    "    model.train()\n",
    "    correct, cursum = 0, 0\n",
    "    loop = tqdm(dataloader, total=len(dataloader))\n",
    "    y_true, y_pred = [], []\n",
    "    loss_buffer = LossBuffer()\n",
    "    for idx, (data, label) in enumerate(loop):\n",
    "        data, label = data.to(device), label.to(device)\n",
    "        output = model(data)\n",
    "        pred = output.argmax(dim=1)\n",
    "        y_true.extend(label.cpu())\n",
    "        y_pred.extend(pred.cpu())\n",
    "        acc = accuracy_score(y_true, y_pred)\n",
    "        \n",
    "        optimizer.zero_grad()\n",
    "        loss = loss_fn(output, label)\n",
    "        loss.backward()\n",
    "        optimizer.step()\n",
    "        loss_buffer.add(loss.item())\n",
    "          \n",
    "        loop.set_description(f\"[Epoch {epoch}/{args.epochs}]\")\n",
    "        loop.set_postfix(LOSS=\"{:.6f}\".format(loss_buffer.mean), ACC=\"{:.2f}%\".format(100 * acc))\n",
    "    \n",
    "    if args.scheduler:\n",
    "        scheduler.step()\n",
    "        \n",
    "    precision, recall, f1, _ = precision_recall_fscore_support(y_true, y_pred, average='macro')\n",
    "    torch.save(model.state_dict(), args.save_model_path)\n",
    "    \n",
    "    train_acc.append(acc)\n",
    "    train_precision.append(precision)\n",
    "    train_recall.append(recall)\n",
    "    train_f1.append(f1)\n",
    "    train_loss.append(loss_buffer.mean)\n",
    "\n",
    "\n",
    "def test(model, dataloader, epoch):\n",
    "    model.eval()\n",
    "    correct = 0\n",
    "    y_true, y_pred = [], []\n",
    "    with torch.no_grad():\n",
    "        total_len = len(dataloader.dataset)\n",
    "        loss_buffer = LossBuffer()\n",
    "        for idx, (data, label) in enumerate(dataloader):\n",
    "            data, label = data.to(device), label.to(device)\n",
    "            output = model(data)\n",
    "            pred = output.argmax(dim=1)\n",
    "            y_true.extend(label.cpu())\n",
    "            y_pred.extend(pred.cpu())\n",
    "            loss = loss_fn(output, label)\n",
    "            loss_buffer.add(loss.item())\n",
    "        acc = accuracy_score(y_true, y_pred)\n",
    "        precision, recall, f1, _ = precision_recall_fscore_support(y_true, y_pred, average='macro')\n",
    "    \n",
    "    print(\"\\n\" + \"-\" * 60)\n",
    "    print(\"[Epoch {}/{}]:  Test -> LOSS: {:.6f}  |  Accuracy: {:.2f}%\".format(epoch, args.epochs, loss_buffer.mean, 100 * acc))\n",
    "    print(\"-\" * 60 + \"\\n\")\n",
    "    \n",
    "    test_acc.append(acc)\n",
    "    test_precision.append(precision)\n",
    "    test_recall.append(recall)\n",
    "    test_f1.append(f1)\n",
    "    test_loss.append(loss_buffer.mean)\n",
    "\n",
    "\n",
    "for epoch in range(1, args.epochs + 1):\n",
    "    train(model, train_loader, epoch)\n",
    "    test(model, test_loader, epoch)\n",
    "\n"
   ]
  },
  {
   "cell_type": "code",
   "execution_count": null,
   "id": "135580f4-9b32-47a5-bd73-24ab1935a6f1",
   "metadata": {},
   "outputs": [],
   "source": [
    "\n",
    "# # 5. Visualization\n"
   ]
  },
  {
   "cell_type": "code",
   "execution_count": 14,
   "id": "33d43c19-0ef2-4a4c-a12b-94d2c954dc40",
   "metadata": {},
   "outputs": [
    {
     "name": "stdout",
     "output_type": "stream",
     "text": [
      "train_loss: [0.679765612077713, 0.503379742097855, 0.30797962933778794, 0.24745846402645125, 0.18203154672235253, 0.16444496941417455, 0.16607505604922781, 0.15914398381561043, 0.161973249553144, 0.16472987500280134, 0.16205273790285, 0.15723734610080733, 0.15815979619771248, 0.16397404239252228, 0.16190663329362862, 0.1603211093470453, 0.1594256674543022, 0.162704243427515, 0.15949625640660528, 0.1629658550962807, 0.16242333501577397, 0.15923688250705573, 0.1599403703257443, 0.15437409950643774, 0.15893763411939135, 0.16265989521443852, 0.16026628186255676, 0.1572235162794591, 0.15696466711014517, 0.16096282366812234] \n",
      "\n",
      "test_loss: [0.5742829103469844, 0.4771439161300659, 0.2876629961133003, 0.2250182137824595, 0.20885806007497018, 0.20277980097942055, 0.20039970863237974, 0.19952962301671506, 0.19945811017975212, 0.19947026239708066, 0.19946647271048282, 0.19946710841730234, 0.19946712171845138, 0.19946712813712658, 0.19946712517179546, 0.19946712409704923, 0.19946713109780104, 0.19946712709777056, 0.19946713054087017, 0.19946712707914413, 0.19946712664049118, 0.19946712997741997, 0.19946712795831262, 0.1994671304859221, 0.19946713064797222, 0.19946713041886688, 0.1994671290060505, 0.1994671313809231, 0.19946712996438154, 0.1994671308323741] \n",
      "\n",
      "train_acc: [0.6256, 0.7556, 0.8681, 0.8976, 0.927, 0.937, 0.9338, 0.9372, 0.9373, 0.9371, 0.9365, 0.9395, 0.9398, 0.937, 0.9355, 0.939, 0.9374, 0.939, 0.9407, 0.9347, 0.9368, 0.9391, 0.9378, 0.94, 0.9389, 0.9355, 0.9378, 0.9392, 0.9388, 0.9387] \n",
      "\n",
      "test_acc: [0.715, 0.7755, 0.8845, 0.9115, 0.9235, 0.926, 0.928, 0.928, 0.928, 0.9275, 0.9275, 0.9275, 0.9275, 0.9275, 0.9275, 0.9275, 0.9275, 0.9275, 0.9275, 0.9275, 0.9275, 0.9275, 0.9275, 0.9275, 0.9275, 0.9275, 0.9275, 0.9275, 0.9275, 0.9275] \n",
      "\n",
      "train_precision: [0.6255965258128624, 0.7557211982584087, 0.8682144761363889, 0.8977414896926197, 0.927135908536119, 0.9370654248659644, 0.9338736374718628, 0.937253053158225, 0.9373721704662645, 0.937181518468728, 0.936530396905495, 0.9395277793246117, 0.939842286125867, 0.9370098706605174, 0.9356301116636967, 0.9390615523714202, 0.9374351890771725, 0.9391224231947732, 0.9408200834502947, 0.9347671113880784, 0.936856975042327, 0.9391196870903153, 0.9379219898383316, 0.940026400346692, 0.9389439320189872, 0.9355333533038384, 0.9378655954303219, 0.939322495420847, 0.9388533405058213, 0.9388136047340188] \n",
      "\n",
      "test_precision: [0.7829319647322015, 0.8029473311494735, 0.8847404627892432, 0.9128413214534021, 0.9235953089445125, 0.9264366711512588, 0.928171268507403, 0.928171268507403, 0.928171268507403, 0.9276886106773087, 0.9276886106773087, 0.9276886106773087, 0.9276886106773087, 0.9276886106773087, 0.9276886106773087, 0.9276886106773087, 0.9276886106773087, 0.9276886106773087, 0.9276886106773087, 0.9276886106773087, 0.9276886106773087, 0.9276886106773087, 0.9276886106773087, 0.9276886106773087, 0.9276886106773087, 0.9276886106773087, 0.9276886106773087, 0.9276886106773087, 0.9276886106773087, 0.9276886106773087] \n",
      "\n",
      "train_recall: [0.6255771133335165, 0.7555546702094378, 0.8680665548810524, 0.8975650808397673, 0.9269677854148214, 0.9369785699705504, 0.933777003739934, 0.9371808528915158, 0.9372774342861511, 0.9370759113761603, 0.9364857828547044, 0.9394865861863044, 0.9397831704689816, 0.9369922501680925, 0.9354690481730557, 0.938979358861942, 0.9373846558344302, 0.9389702387302472, 0.940670643284089, 0.9346781567525835, 0.9367800871044578, 0.9390888604431448, 0.9377702214019971, 0.9399869734118961, 0.9388827774673066, 0.9354850084035213, 0.9377785815227172, 0.939170241618289, 0.9387808759958494, 0.9386713744146465] \n",
      "\n",
      "test_recall: [0.715, 0.7755000000000001, 0.8845000000000001, 0.9115, 0.9235, 0.9259999999999999, 0.9279999999999999, 0.9279999999999999, 0.9279999999999999, 0.9275, 0.9275, 0.9275, 0.9275, 0.9275, 0.9275, 0.9275, 0.9275, 0.9275, 0.9275, 0.9275, 0.9275, 0.9275, 0.9275, 0.9275, 0.9275, 0.9275, 0.9275, 0.9275, 0.9275, 0.9275] \n",
      "\n",
      "train_f1: [0.6255735804718382, 0.7555464548954802, 0.8680806856931923, 0.897583740394625, 0.9269894864860541, 0.9369946672286342, 0.9337938984456806, 0.9371953549684535, 0.9372943408142584, 0.9370938345667259, 0.9364966159046616, 0.9394969500412516, 0.9397961469534049, 0.9369980242580407, 0.9354911693861774, 0.9389950585997466, 0.9373963840151407, 0.9389920714096005, 0.9406924270160056, 0.9346943517144798, 0.9367951054129632, 0.9390974268662851, 0.9377919154373302, 0.939997059855933, 0.9388959909659673, 0.9354963716709065, 0.9377947349463659, 0.9391920974049787, 0.9387954733132062, 0.9386924462963081] \n",
      "\n",
      "test_f1: [0.6968004468203941, 0.7702971735553215, 0.8844819503047352, 0.9114280574396554, 0.9234956966329357, 0.925981051149094, 0.927992799279928, 0.927992799279928, 0.927992799279928, 0.9274920059936609, 0.9274920059936609, 0.9274920059936609, 0.9274920059936609, 0.9274920059936609, 0.9274920059936609, 0.9274920059936609, 0.9274920059936609, 0.9274920059936609, 0.9274920059936609, 0.9274920059936609, 0.9274920059936609, 0.9274920059936609, 0.9274920059936609, 0.9274920059936609, 0.9274920059936609, 0.9274920059936609, 0.9274920059936609, 0.9274920059936609, 0.9274920059936609, 0.9274920059936609] \n",
      "\n"
     ]
    }
   ],
   "source": [
    "\n",
    "# ## 5.1 Print\n",
    "\n",
    "\n",
    "dic = {\n",
    "    \"train_loss\"     : train_loss,\n",
    "    \"test_loss\"      : test_loss,\n",
    "    \"train_acc\"      : train_acc,\n",
    "    \"test_acc\"       : test_acc,\n",
    "    \"train_precision\": train_precision,\n",
    "    \"test_precision\" : test_precision,\n",
    "    \"train_recall\"   : train_recall,\n",
    "    \"test_recall\"    : test_recall,\n",
    "    \"train_f1\"       : train_f1,\n",
    "    \"test_f1\"        : test_f1,\n",
    "}\n",
    "\n",
    "\n",
    "\n",
    "# print and save results\n",
    "for key, value in dic.items():\n",
    "    print(key + \": \" + str(value), \"\\n\")\n",
    "    np.savetxt(args.output_path + key + \".txt\", value)\n"
   ]
  },
  {
   "cell_type": "code",
   "execution_count": 15,
   "id": "f8805dc9-0a06-4f08-a555-b107292c6b39",
   "metadata": {},
   "outputs": [
    {
     "data": {
      "image/png": "[encoded data removed]",
      "text/plain": [
       "<Figure size 640x480 with 1 Axes>"
      ]
     },
     "metadata": {},
     "output_type": "display_data"
    },
    {
     "data": {
      "image/png": "[encoded data removed]",
      "text/plain": [
       "<Figure size 1600x1600 with 4 Axes>"
      ]
     },
     "metadata": {},
     "output_type": "display_data"
    }
   ],
   "source": [
    "\n",
    "# ## 5.2 Plot\n",
    "\n",
    "\n",
    "# plot loss\n",
    "plt.plot(np.arange(1, args.epochs + 1), np.array(train_loss), 'go-')\n",
    "plt.plot(np.arange(1, args.epochs + 1), np.array(test_loss), 'ro-')\n",
    "plt.xticks(np.arange(2, args.epochs + 1, 2))\n",
    "plt.title(\"Loss\")\n",
    "plt.grid(True)\n",
    "plt.legend([\"train\", \"test\"], loc=\"upper right\")\n",
    "plt.savefig(\"../output/Loss.png\", dpi=600)\n",
    "\n",
    "\n",
    "figure = plt.figure(figsize=(16,16))\n",
    "\n",
    "# plot accuracy\n",
    "figure.add_subplot(2, 2, 1)\n",
    "plt.plot(np.arange(1, args.epochs + 1), np.array(train_acc), 'go-')\n",
    "plt.plot(np.arange(1, args.epochs + 1), np.array(test_acc), 'ro-')\n",
    "plt.xticks(np.arange(2, args.epochs + 1, 2))\n",
    "plt.title(\"Accuracy\")\n",
    "plt.grid(True)\n",
    "plt.legend([\"train\", \"test\"], loc=\"lower right\")\n",
    "plt.savefig(\"../output/Accuracy.png\", dpi=600)\n",
    "\n",
    "# plot precision\n",
    "figure.add_subplot(2, 2, 2)\n",
    "plt.plot(np.arange(1, args.epochs + 1), np.array(train_precision), 'go-')\n",
    "plt.plot(np.arange(1, args.epochs + 1), np.array(test_precision), 'ro-')\n",
    "plt.xticks(np.arange(2, args.epochs + 1, 2))\n",
    "plt.title(\"Precision\")\n",
    "plt.grid(True)\n",
    "plt.legend([\"train\", \"test\"], loc=\"lower right\")\n",
    "plt.savefig(\"../output/Precision.png\", dpi=600)\n",
    "\n",
    "# plot recall\n",
    "figure.add_subplot(2, 2, 3)\n",
    "plt.plot(np.arange(1, args.epochs + 1), np.array(train_recall), 'go-')\n",
    "plt.plot(np.arange(1, args.epochs + 1), np.array(test_recall), 'ro-')\n",
    "plt.xticks(np.arange(2, args.epochs + 1, 2))\n",
    "plt.title(\"Recall\")\n",
    "plt.grid(True)\n",
    "plt.legend([\"train\", \"test\"], loc=\"lower right\")\n",
    "plt.savefig(\"../output/Recall.png\", dpi=600)\n",
    "\n",
    "# plot F1-score\n",
    "figure.add_subplot(2, 2, 4)\n",
    "plt.plot(np.arange(1, args.epochs + 1), np.array(train_f1), 'go-')\n",
    "plt.plot(np.arange(1, args.epochs + 1), np.array(test_f1), 'ro-')\n",
    "plt.xticks(np.arange(2, args.epochs + 1, 2))\n",
    "plt.title(\"F1-score\")\n",
    "plt.grid(True)\n",
    "plt.legend([\"train\", \"test\"], loc=\"lower right\")\n",
    "plt.savefig(\"../output/F1-score.png\", dpi=600)\n"
   ]
  },
  {
   "cell_type": "code",
   "execution_count": 16,
   "id": "188b0422-dd23-4514-b45b-5e26889e8465",
   "metadata": {},
   "outputs": [],
   "source": [
    "\n",
    "for i in range(30):\n",
    "    torch.cuda.empty_cache()\n"
   ]
  },
  {
   "cell_type": "code",
   "execution_count": 17,
   "id": "5f369df4-ab1c-4e58-ab23-e60d521cfa3a",
   "metadata": {},
   "outputs": [],
   "source": [
    "torch.save(model.state_dict(), '../output/vit_base16_mixed.pth')"
   ]
  }
 ],
 "metadata": {
  "kernelspec": {
   "display_name": "Python 3 (ipykernel)",
   "language": "python",
   "name": "python3"
  },
  "language_info": {
   "codemirror_mode": {
    "name": "ipython",
    "version": 3
   },
   "file_extension": ".py",
   "mimetype": "text/x-python",
   "name": "python",
   "nbconvert_exporter": "python",
   "pygments_lexer": "ipython3",
   "version": "3.8.20"
  }
 },
 "nbformat": 4,
 "nbformat_minor": 5
}
