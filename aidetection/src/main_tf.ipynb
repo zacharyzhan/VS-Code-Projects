{
 "cells": [
  {
   "cell_type": "code",
   "execution_count": 8,
   "id": "46792ea7-b41d-462b-8bc9-2b211ebbf697",
   "metadata": {},
   "outputs": [],
   "source": [
    "import os\n",
    "import tensorflow as tf\n",
    "import pandas as pd\n",
    "from tensorflow.keras.preprocessing import image\n",
    "import numpy as np"
   ]
  },
  {
   "cell_type": "code",
   "execution_count": 9,
   "id": "94f2b875-2332-474e-bc14-ace0be74da79",
   "metadata": {},
   "outputs": [],
   "source": [
    "#动态扩展显存\n",
    "gpus = tf.config.experimental.list_physical_devices('GPU')\n",
    "if gpus:\n",
    "    try:\n",
    "        for gpu in gpus:\n",
    "            tf.config.experimental.set_memory_growth(gpu, True)\n",
    "    except RuntimeError as e:\n",
    "        print(e)"
   ]
  },
  {
   "cell_type": "code",
   "execution_count": 10,
   "id": "e27657fb-6da7-40b0-a82b-88d98c62100a",
   "metadata": {},
   "outputs": [],
   "source": [
    "# 加载预训练模型\n",
    "model = tf.keras.model-s.load_model('../output/Vgg16_model.h5')"
   ]
  },
  {
   "cell_type": "code",
   "execution_count": 11,
   "id": "bba01e86-bf82-43e2-b1ab-c490c0f573ce",
   "metadata": {},
   "outputs": [
    {
     "name": "stdout",
     "output_type": "stream",
     "text": [
      "ok\n"
     ]
    }
   ],
   "source": [
    "# 读取图片并进行预测\n",
    "def predict_images(image_folder):\n",
    "    results = []\n",
    "\n",
    "    # 获取文件名并按字典序升序排序，区分大小写\n",
    "    image_files = sorted([f for f in os.listdir(image_folder) if f.endswith('.jpg') or \n",
    "                    f.endswith('.png')], key=lambda s: s.lower())\n",
    "    \n",
    "    for filename in image_files:\n",
    "        if filename.endswith('.jpg') or filename.endswith('.png'):  # 可以根据需要调整图片格式\n",
    "            img_path = os.path.join(image_folder, filename)\n",
    "            \n",
    "            # 读取并处理图片\n",
    "            img = image.load_img(img_path, target_size=(128, 128))  # 根据模型调整大小\n",
    "            img_array = image.img_to_array(img)\n",
    "            img_array = np.expand_dims(img_array, axis=0) / 255.0  # 归一化\n",
    "            \n",
    "            # 进行预测\n",
    "            predictions = model.predict(img_array)\n",
    "            #predicted_class = np.argmax(predictions, axis=1)[0]\n",
    "            predicted_class = 1 if predictions[0][0] >= 0.5 else 0  # 根据概率判断类别\n",
    "            \n",
    "            # 去掉文件扩展名\n",
    "            img_name_without_ext = os.path.splitext(os.path.basename(img_path))[0]\n",
    "            # 保存结果\n",
    "            results.append({'filename': img_name_without_ext, 'predicted_class': predicted_class})\n",
    "\n",
    "    return results\n",
    "\n",
    "# 指定图片文件夹\n",
    "image_folder = '../testdata'\n",
    "predicted_results = predict_images(image_folder)\n",
    "\n",
    "# 将结果写入output.csv\n",
    "df = pd.DataFrame(predicted_results)\n",
    "df.to_csv('../cla_pre.csv', index=False, header=False)\n",
    "print('ok')"
   ]
  },
  {
   "cell_type": "code",
   "execution_count": null,
   "id": "d9ec5205-8044-4005-8eb1-e4800c8dbafb",
   "metadata": {},
   "outputs": [],
   "source": []
  }
 ],
 "metadata": {
  "kernelspec": {
   "display_name": "Python 3",
   "language": "python",
   "name": "python3"
  },
  "language_info": {
   "codemirror_mode": {
    "name": "ipython",
    "version": 3
   },
   "file_extension": ".py",
   "mimetype": "text/x-python",
   "name": "python",
   "nbconvert_exporter": "python",
   "pygments_lexer": "ipython3",
   "version": "3.8.18"
  }
 },
 "nbformat": 4,
 "nbformat_minor": 5
}
